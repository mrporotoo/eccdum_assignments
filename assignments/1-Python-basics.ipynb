{
  "cells": [
    {
      "cell_type": "markdown",
      "metadata": {
        "id": "-Q_EGBfvpKh_"
      },
      "source": [
        "# Notebook Overview\n",
        "\n",
        "In this notebook, you’ll explore essential Python concepts such as numbers, strings, lists, loops, and functions to strengthen your familiarity with them. Each exercise includes a description of the task, followed by a space where you will implement a solution.\n",
        "\n",
        "Once you’ve completed your implementation, the function will be automatically tested to ensure it works correctly. If successful, additional examples will be executed to further validate your solution."
      ]
    },
    {
      "cell_type": "markdown",
      "metadata": {
        "id": "yhlyaeUYpKiA"
      },
      "source": [
        "## \t1.\tRemove Vowels Function:\n",
        "Implement a function that removes all vowels from a given string.\n",
        "Example: \"hello\" → \"hll\""
      ]
    },
    {
      "cell_type": "code",
      "execution_count": 6,
      "metadata": {
        "vscode": {
          "languageId": "plaintext"
        },
        "id": "82YQ51sspKiA"
      },
      "outputs": [],
      "source": [
        "\n",
        "def remove_vowels(text: str) -> str:\n",
        "    \"\"\"\n",
        "    This function removes all vowels from strings\n",
        "    Example: \"hello\" -> \"hll\"\n",
        "    Esta función está hecha para ESPAÑOL\n",
        "    \"\"\"\n",
        "\n",
        "    vocales = \"aeiouAEIOUáéíóúÁÉÍÓÚ\"\n",
        "    return ''.join(char for char in text if char not in vocales)"
      ]
    },
    {
      "cell_type": "code",
      "execution_count": 7,
      "metadata": {
        "vscode": {
          "languageId": "plaintext"
        },
        "colab": {
          "base_uri": "https://localhost:8080/"
        },
        "id": "LNM9VGkbpKiB",
        "outputId": "c4249cee-a090-4942-cfbf-c5904230f0fa"
      },
      "outputs": [
        {
          "output_type": "stream",
          "name": "stdout",
          "text": [
            "st f n bn d\n"
          ]
        }
      ],
      "source": [
        "\n",
        "assert remove_vowels(\"hola\") == \"hl\"\n",
        "answer_1  = remove_vowels(\"Este fue un buen día\")\n",
        "print(answer_1)"
      ]
    },
    {
      "cell_type": "markdown",
      "metadata": {
        "id": "008dwQ9VpKiB"
      },
      "source": [
        "# 2.\tSum List of Floats Function:\n",
        "Write a function that computes the element-wise sum of two lists of floats.\n",
        "Example: [1, 2, 3] + [4, 5, -2.3] → [5, 7, 0.7]"
      ]
    },
    {
      "cell_type": "code",
      "source": [
        "import numpy as np"
      ],
      "metadata": {
        "id": "sjLH9D1fqjCK"
      },
      "execution_count": 10,
      "outputs": []
    },
    {
      "cell_type": "code",
      "execution_count": 14,
      "metadata": {
        "vscode": {
          "languageId": "plaintext"
        },
        "id": "rvvZsFXupKiB"
      },
      "outputs": [],
      "source": [
        "\n",
        "def sum_list_of_floats(a: list, b:list) -> list:\n",
        "    \"\"\"\n",
        "    Returns the coordinate wise sum of a and b.\n",
        "    \"\"\"\n",
        "\n",
        "    return [i + j for i, j in zip(a, b)]\n"
      ]
    },
    {
      "cell_type": "code",
      "execution_count": 16,
      "metadata": {
        "vscode": {
          "languageId": "plaintext"
        },
        "colab": {
          "base_uri": "https://localhost:8080/"
        },
        "id": "cweIGjfypKiC",
        "outputId": "cbdec2b2-2963-4b9e-ec45-f0d4b15a89fc"
      },
      "outputs": [
        {
          "output_type": "stream",
          "name": "stdout",
          "text": [
            "[9, -0.8]\n"
          ]
        }
      ],
      "source": [
        "assert np.allclose(\n",
        "    sum_list_of_floats(\n",
        "        [1, 2, 3], [4, 5, -2.3]),\n",
        "    [5, 7, 0.7]\n",
        ")\n",
        "answer_2 = sum_list_of_floats([8, 0.2], [1, -1])\n",
        "print(answer_2)"
      ]
    }
  ],
  "metadata": {
    "language_info": {
      "name": "python"
    },
    "colab": {
      "provenance": []
    },
    "kernelspec": {
      "name": "python3",
      "display_name": "Python 3"
    }
  },
  "nbformat": 4,
  "nbformat_minor": 0
}